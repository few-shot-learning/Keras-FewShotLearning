{
  "nbformat": 4,
  "nbformat_minor": 0,
  "metadata": {
    "kernelspec": {
      "display_name": "Python 3",
      "language": "python",
      "name": "python3"
    },
    "language_info": {
      "codemirror_mode": {
        "name": "ipython",
        "version": 2
      },
      "file_extension": ".py",
      "mimetype": "text/x-python",
      "name": "python",
      "nbconvert_exporter": "python",
      "pygments_lexer": "ipython2",
      "version": "2.7.6"
    },
    "colab": {
      "name": "benchmark_caching_performance.ipynb",
      "provenance": [],
      "include_colab_link": true
    }
  },
  "cells": [
    {
      "cell_type": "markdown",
      "metadata": {
        "id": "view-in-github",
        "colab_type": "text"
      },
      "source": [
        "<a href=\"https://colab.research.google.com/github/few-shot-learning/Keras-FewShotLearning/blob/notebooks%2Fbenchmark-perf-caches/notebooks/benchmark_caching_performance.ipynb\" target=\"_parent\"><img src=\"https://colab.research.google.com/assets/colab-badge.svg\" alt=\"Open In Colab\"/></a>"
      ]
    },
    {
      "cell_type": "code",
      "metadata": {
        "id": "7gQubOH80hKo",
        "colab_type": "code",
        "colab": {
          "base_uri": "https://localhost:8080/",
          "height": 1000
        },
        "outputId": "273d3b35-adb7-42e3-8a9c-f2251b1329e6"
      },
      "source": [
        "! git clone https://github.com/few-shot-learning/Keras-FewShotLearning.git\n",
        "%cd Keras-FewShotLearning\n",
        "! curl -sSL https://raw.githubusercontent.com/python-poetry/poetry/master/get-poetry.py | python\n",
        "! $HOME/.poetry/bin/poetry config virtualenvs.create false --local\n",
        "! $HOME/.poetry/bin/poetry install"
      ],
      "execution_count": 1,
      "outputs": [
        {
          "output_type": "stream",
          "text": [
            "Cloning into 'Keras-FewShotLearning'...\n",
            "remote: Enumerating objects: 99, done.\u001b[K\n",
            "remote: Counting objects:   1% (1/99)\u001b[K\rremote: Counting objects:   2% (2/99)\u001b[K\rremote: Counting objects:   3% (3/99)\u001b[K\rremote: Counting objects:   4% (4/99)\u001b[K\rremote: Counting objects:   5% (5/99)\u001b[K\rremote: Counting objects:   6% (6/99)\u001b[K\rremote: Counting objects:   7% (7/99)\u001b[K\rremote: Counting objects:   8% (8/99)\u001b[K\rremote: Counting objects:   9% (9/99)\u001b[K\rremote: Counting objects:  10% (10/99)\u001b[K\rremote: Counting objects:  11% (11/99)\u001b[K\rremote: Counting objects:  12% (12/99)\u001b[K\rremote: Counting objects:  13% (13/99)\u001b[K\rremote: Counting objects:  14% (14/99)\u001b[K\rremote: Counting objects:  15% (15/99)\u001b[K\rremote: Counting objects:  16% (16/99)\u001b[K\rremote: Counting objects:  17% (17/99)\u001b[K\rremote: Counting objects:  18% (18/99)\u001b[K\rremote: Counting objects:  19% (19/99)\u001b[K\rremote: Counting objects:  20% (20/99)\u001b[K\rremote: Counting objects:  21% (21/99)\u001b[K\rremote: Counting objects:  22% (22/99)\u001b[K\rremote: Counting objects:  23% (23/99)\u001b[K\rremote: Counting objects:  24% (24/99)\u001b[K\rremote: Counting objects:  25% (25/99)\u001b[K\rremote: Counting objects:  26% (26/99)\u001b[K\rremote: Counting objects:  27% (27/99)\u001b[K\rremote: Counting objects:  28% (28/99)\u001b[K\rremote: Counting objects:  29% (29/99)\u001b[K\rremote: Counting objects:  30% (30/99)\u001b[K\rremote: Counting objects:  31% (31/99)\u001b[K\rremote: Counting objects:  32% (32/99)\u001b[K\rremote: Counting objects:  33% (33/99)\u001b[K\rremote: Counting objects:  34% (34/99)\u001b[K\rremote: Counting objects:  35% (35/99)\u001b[K\rremote: Counting objects:  36% (36/99)\u001b[K\rremote: Counting objects:  37% (37/99)\u001b[K\rremote: Counting objects:  38% (38/99)\u001b[K\rremote: Counting objects:  39% (39/99)\u001b[K\rremote: Counting objects:  40% (40/99)\u001b[K\rremote: Counting objects:  41% (41/99)\u001b[K\rremote: Counting objects:  42% (42/99)\u001b[K\rremote: Counting objects:  43% (43/99)\u001b[K\rremote: Counting objects:  44% (44/99)\u001b[K\rremote: Counting objects:  45% (45/99)\u001b[K\rremote: Counting objects:  46% (46/99)\u001b[K\rremote: Counting objects:  47% (47/99)\u001b[K\rremote: Counting objects:  48% (48/99)\u001b[K\rremote: Counting objects:  49% (49/99)\u001b[K\rremote: Counting objects:  50% (50/99)\u001b[K\rremote: Counting objects:  51% (51/99)\u001b[K\rremote: Counting objects:  52% (52/99)\u001b[K\rremote: Counting objects:  53% (53/99)\u001b[K\rremote: Counting objects:  54% (54/99)\u001b[K\rremote: Counting objects:  55% (55/99)\u001b[K\rremote: Counting objects:  56% (56/99)\u001b[K\rremote: Counting objects:  57% (57/99)\u001b[K\rremote: Counting objects:  58% (58/99)\u001b[K\rremote: Counting objects:  59% (59/99)\u001b[K\rremote: Counting objects:  60% (60/99)\u001b[K\rremote: Counting objects:  61% (61/99)\u001b[K\rremote: Counting objects:  62% (62/99)\u001b[K\rremote: Counting objects:  63% (63/99)\u001b[K\rremote: Counting objects:  64% (64/99)\u001b[K\rremote: Counting objects:  65% (65/99)\u001b[K\rremote: Counting objects:  66% (66/99)\u001b[K\rremote: Counting objects:  67% (67/99)\u001b[K\rremote: Counting objects:  68% (68/99)\u001b[K\rremote: Counting objects:  69% (69/99)\u001b[K\rremote: Counting objects:  70% (70/99)\u001b[K\rremote: Counting objects:  71% (71/99)\u001b[K\rremote: Counting objects:  72% (72/99)\u001b[K\rremote: Counting objects:  73% (73/99)\u001b[K\rremote: Counting objects:  74% (74/99)\u001b[K\rremote: Counting objects:  75% (75/99)\u001b[K\rremote: Counting objects:  76% (76/99)\u001b[K\rremote: Counting objects:  77% (77/99)\u001b[K\rremote: Counting objects:  78% (78/99)\u001b[K\rremote: Counting objects:  79% (79/99)\u001b[K\rremote: Counting objects:  80% (80/99)\u001b[K\rremote: Counting objects:  81% (81/99)\u001b[K\rremote: Counting objects:  82% (82/99)\u001b[K\rremote: Counting objects:  83% (83/99)\u001b[K\rremote: Counting objects:  84% (84/99)\u001b[K\rremote: Counting objects:  85% (85/99)\u001b[K\rremote: Counting objects:  86% (86/99)\u001b[K\rremote: Counting objects:  87% (87/99)\u001b[K\rremote: Counting objects:  88% (88/99)\u001b[K\rremote: Counting objects:  89% (89/99)\u001b[K\rremote: Counting objects:  90% (90/99)\u001b[K\rremote: Counting objects:  91% (91/99)\u001b[K\rremote: Counting objects:  92% (92/99)\u001b[K\rremote: Counting objects:  93% (93/99)\u001b[K\rremote: Counting objects:  94% (94/99)\u001b[K\rremote: Counting objects:  95% (95/99)\u001b[K\rremote: Counting objects:  96% (96/99)\u001b[K\rremote: Counting objects:  97% (97/99)\u001b[K\rremote: Counting objects:  98% (98/99)\u001b[K\rremote: Counting objects: 100% (99/99)\u001b[K\rremote: Counting objects: 100% (99/99), done.\u001b[K\n",
            "remote: Compressing objects:   1% (1/76)\u001b[K\rremote: Compressing objects:   2% (2/76)\u001b[K\rremote: Compressing objects:   3% (3/76)\u001b[K\rremote: Compressing objects:   5% (4/76)\u001b[K\rremote: Compressing objects:   6% (5/76)\u001b[K\rremote: Compressing objects:   7% (6/76)\u001b[K\rremote: Compressing objects:   9% (7/76)\u001b[K\rremote: Compressing objects:  10% (8/76)\u001b[K\rremote: Compressing objects:  11% (9/76)\u001b[K\rremote: Compressing objects:  13% (10/76)\u001b[K\rremote: Compressing objects:  14% (11/76)\u001b[K\rremote: Compressing objects:  15% (12/76)\u001b[K\rremote: Compressing objects:  17% (13/76)\u001b[K\rremote: Compressing objects:  18% (14/76)\u001b[K\rremote: Compressing objects:  19% (15/76)\u001b[K\rremote: Compressing objects:  21% (16/76)\u001b[K\rremote: Compressing objects:  22% (17/76)\u001b[K\rremote: Compressing objects:  23% (18/76)\u001b[K\rremote: Compressing objects:  25% (19/76)\u001b[K\rremote: Compressing objects:  26% (20/76)\u001b[K\rremote: Compressing objects:  27% (21/76)\u001b[K\rremote: Compressing objects:  28% (22/76)\u001b[K\rremote: Compressing objects:  30% (23/76)\u001b[K\rremote: Compressing objects:  31% (24/76)\u001b[K\rremote: Compressing objects:  32% (25/76)\u001b[K\rremote: Compressing objects:  34% (26/76)\u001b[K\rremote: Compressing objects:  35% (27/76)\u001b[K\rremote: Compressing objects:  36% (28/76)\u001b[K\rremote: Compressing objects:  38% (29/76)\u001b[K\rremote: Compressing objects:  39% (30/76)\u001b[K\rremote: Compressing objects:  40% (31/76)\u001b[K\rremote: Compressing objects:  42% (32/76)\u001b[K\rremote: Compressing objects:  43% (33/76)\u001b[K\rremote: Compressing objects:  44% (34/76)\u001b[K\rremote: Compressing objects:  46% (35/76)\u001b[K\rremote: Compressing objects:  47% (36/76)\u001b[K\rremote: Compressing objects:  48% (37/76)\u001b[K\rremote: Compressing objects:  50% (38/76)\u001b[K\rremote: Compressing objects:  51% (39/76)\u001b[K\rremote: Compressing objects:  52% (40/76)\u001b[K\rremote: Compressing objects:  53% (41/76)\u001b[K\rremote: Compressing objects:  55% (42/76)\u001b[K\rremote: Compressing objects:  56% (43/76)\u001b[K\rremote: Compressing objects:  57% (44/76)\u001b[K\rremote: Compressing objects:  59% (45/76)\u001b[K\rremote: Compressing objects:  60% (46/76)\u001b[K\rremote: Compressing objects:  61% (47/76)\u001b[K\rremote: Compressing objects:  63% (48/76)\u001b[K\rremote: Compressing objects:  64% (49/76)\u001b[K\rremote: Compressing objects:  65% (50/76)\u001b[K\rremote: Compressing objects:  67% (51/76)\u001b[K\rremote: Compressing objects:  68% (52/76)\u001b[K\rremote: Compressing objects:  69% (53/76)\u001b[K\rremote: Compressing objects:  71% (54/76)\u001b[K\rremote: Compressing objects:  72% (55/76)\u001b[K\rremote: Compressing objects:  73% (56/76)\u001b[K\rremote: Compressing objects:  75% (57/76)\u001b[K\rremote: Compressing objects:  76% (58/76)\u001b[K\rremote: Compressing objects:  77% (59/76)\u001b[K\rremote: Compressing objects:  78% (60/76)\u001b[K\rremote: Compressing objects:  80% (61/76)\u001b[K\rremote: Compressing objects:  81% (62/76)\u001b[K\rremote: Compressing objects:  82% (63/76)\u001b[K\rremote: Compressing objects:  84% (64/76)\u001b[K\rremote: Compressing objects:  85% (65/76)\u001b[K\rremote: Compressing objects:  86% (66/76)\u001b[K\rremote: Compressing objects:  88% (67/76)\u001b[K\rremote: Compressing objects:  89% (68/76)\u001b[K\rremote: Compressing objects:  90% (69/76)\u001b[K\rremote: Compressing objects:  92% (70/76)\u001b[K\rremote: Compressing objects:  93% (71/76)\u001b[K\rremote: Compressing objects:  94% (72/76)\u001b[K\rremote: Compressing objects:  96% (73/76)\u001b[K\rremote: Compressing objects:  97% (74/76)\u001b[K\rremote: Compressing objects:  98% (75/76)\u001b[K\rremote: Compressing objects: 100% (76/76)\u001b[K\rremote: Compressing objects: 100% (76/76), done.\u001b[K\n",
            "Receiving objects:   0% (1/1631)   \rReceiving objects:   1% (17/1631)   \rReceiving objects:   2% (33/1631)   \rReceiving objects:   3% (49/1631)   \rReceiving objects:   4% (66/1631)   \rReceiving objects:   5% (82/1631)   \rReceiving objects:   6% (98/1631)   \rReceiving objects:   7% (115/1631)   \rReceiving objects:   8% (131/1631)   \rReceiving objects:   9% (147/1631)   \rReceiving objects:  10% (164/1631)   \rReceiving objects:  11% (180/1631)   \rReceiving objects:  12% (196/1631)   \rReceiving objects:  13% (213/1631)   \rReceiving objects:  14% (229/1631)   \rReceiving objects:  15% (245/1631)   \rReceiving objects:  16% (261/1631)   \rReceiving objects:  17% (278/1631)   \rReceiving objects:  18% (294/1631)   \rReceiving objects:  19% (310/1631)   \rReceiving objects:  20% (327/1631)   \rReceiving objects:  21% (343/1631)   \rReceiving objects:  22% (359/1631)   \rReceiving objects:  23% (376/1631)   \rReceiving objects:  24% (392/1631)   \rReceiving objects:  25% (408/1631)   \rReceiving objects:  26% (425/1631)   \rReceiving objects:  27% (441/1631)   \rReceiving objects:  28% (457/1631)   \rReceiving objects:  29% (473/1631)   \rReceiving objects:  30% (490/1631)   \rReceiving objects:  31% (506/1631)   \rReceiving objects:  32% (522/1631)   \rReceiving objects:  33% (539/1631)   \rReceiving objects:  34% (555/1631)   \rReceiving objects:  35% (571/1631)   \rReceiving objects:  36% (588/1631)   \rReceiving objects:  37% (604/1631)   \rReceiving objects:  38% (620/1631)   \rReceiving objects:  39% (637/1631)   \rReceiving objects:  40% (653/1631)   \rReceiving objects:  41% (669/1631)   \rReceiving objects:  42% (686/1631)   \rReceiving objects:  43% (702/1631)   \rReceiving objects:  44% (718/1631)   \rReceiving objects:  45% (734/1631)   \rReceiving objects:  46% (751/1631)   \rReceiving objects:  47% (767/1631)   \rReceiving objects:  48% (783/1631)   \rReceiving objects:  49% (800/1631)   \rReceiving objects:  50% (816/1631)   \rReceiving objects:  51% (832/1631)   \rReceiving objects:  52% (849/1631)   \rReceiving objects:  53% (865/1631)   \rReceiving objects:  54% (881/1631)   \rReceiving objects:  55% (898/1631)   \rReceiving objects:  56% (914/1631)   \rReceiving objects:  57% (930/1631)   \rReceiving objects:  58% (946/1631)   \rReceiving objects:  59% (963/1631)   \rReceiving objects:  60% (979/1631)   \rReceiving objects:  61% (995/1631)   \rReceiving objects:  62% (1012/1631)   \rReceiving objects:  63% (1028/1631)   \rReceiving objects:  64% (1044/1631)   \rReceiving objects:  65% (1061/1631)   \rReceiving objects:  66% (1077/1631)   \rReceiving objects:  67% (1093/1631)   \rReceiving objects:  68% (1110/1631)   \rReceiving objects:  69% (1126/1631)   \rReceiving objects:  70% (1142/1631)   \rReceiving objects:  71% (1159/1631)   \rReceiving objects:  72% (1175/1631)   \rReceiving objects:  73% (1191/1631)   \rReceiving objects:  74% (1207/1631)   \rReceiving objects:  75% (1224/1631)   \rReceiving objects:  76% (1240/1631)   \rReceiving objects:  77% (1256/1631)   \rReceiving objects:  78% (1273/1631)   \rReceiving objects:  79% (1289/1631)   \rReceiving objects:  80% (1305/1631)   \rReceiving objects:  81% (1322/1631)   \rReceiving objects:  82% (1338/1631)   \rReceiving objects:  83% (1354/1631)   \rReceiving objects:  84% (1371/1631)   \rReceiving objects:  85% (1387/1631)   \rReceiving objects:  86% (1403/1631)   \rReceiving objects:  87% (1419/1631)   \rReceiving objects:  88% (1436/1631)   \rReceiving objects:  89% (1452/1631)   \rReceiving objects:  90% (1468/1631)   \rReceiving objects:  91% (1485/1631)   \rReceiving objects:  92% (1501/1631)   \rReceiving objects:  93% (1517/1631)   \rReceiving objects:  94% (1534/1631)   \rReceiving objects:  95% (1550/1631)   \rReceiving objects:  96% (1566/1631)   \rReceiving objects:  97% (1583/1631)   \rReceiving objects:  98% (1599/1631)   \rremote: Total 1631 (delta 41), reused 46 (delta 19), pack-reused 1532\u001b[K\n",
            "Receiving objects:  99% (1615/1631)   \rReceiving objects: 100% (1631/1631)   \rReceiving objects: 100% (1631/1631), 1.95 MiB | 15.27 MiB/s, done.\n",
            "Resolving deltas:   0% (0/945)   \rResolving deltas:   1% (18/945)   \rResolving deltas:   2% (19/945)   \rResolving deltas:   3% (31/945)   \rResolving deltas:   4% (38/945)   \rResolving deltas:   5% (54/945)   \rResolving deltas:   6% (66/945)   \rResolving deltas:   7% (70/945)   \rResolving deltas:   8% (76/945)   \rResolving deltas:   9% (91/945)   \rResolving deltas:  10% (100/945)   \rResolving deltas:  11% (104/945)   \rResolving deltas:  12% (121/945)   \rResolving deltas:  13% (123/945)   \rResolving deltas:  14% (136/945)   \rResolving deltas:  15% (142/945)   \rResolving deltas:  16% (153/945)   \rResolving deltas:  17% (170/945)   \rResolving deltas:  19% (180/945)   \rResolving deltas:  20% (190/945)   \rResolving deltas:  21% (199/945)   \rResolving deltas:  22% (212/945)   \rResolving deltas:  23% (220/945)   \rResolving deltas:  24% (232/945)   \rResolving deltas:  25% (239/945)   \rResolving deltas:  31% (298/945)   \rResolving deltas:  32% (311/945)   \rResolving deltas:  33% (313/945)   \rResolving deltas:  34% (328/945)   \rResolving deltas:  35% (335/945)   \rResolving deltas:  36% (345/945)   \rResolving deltas:  37% (350/945)   \rResolving deltas:  38% (361/945)   \rResolving deltas:  39% (373/945)   \rResolving deltas:  41% (394/945)   \rResolving deltas:  42% (399/945)   \rResolving deltas:  43% (407/945)   \rResolving deltas:  44% (423/945)   \rResolving deltas:  45% (426/945)   \rResolving deltas:  47% (445/945)   \rResolving deltas:  48% (457/945)   \rResolving deltas:  50% (473/945)   \rResolving deltas:  52% (497/945)   \rResolving deltas:  53% (506/945)   \rResolving deltas:  54% (511/945)   \rResolving deltas:  55% (527/945)   \rResolving deltas:  56% (530/945)   \rResolving deltas:  57% (541/945)   \rResolving deltas:  58% (551/945)   \rResolving deltas:  59% (561/945)   \rResolving deltas:  60% (571/945)   \rResolving deltas:  62% (588/945)   \rResolving deltas:  63% (596/945)   \rResolving deltas:  65% (622/945)   \rResolving deltas:  66% (629/945)   \rResolving deltas:  67% (635/945)   \rResolving deltas:  69% (658/945)   \rResolving deltas:  70% (664/945)   \rResolving deltas:  71% (679/945)   \rResolving deltas:  72% (682/945)   \rResolving deltas:  73% (692/945)   \rResolving deltas:  75% (714/945)   \rResolving deltas:  76% (721/945)   \rResolving deltas:  77% (731/945)   \rResolving deltas:  78% (742/945)   \rResolving deltas:  79% (750/945)   \rResolving deltas:  80% (759/945)   \rResolving deltas:  83% (785/945)   \rResolving deltas:  86% (816/945)   \rResolving deltas:  88% (839/945)   \rResolving deltas:  90% (852/945)   \rResolving deltas:  91% (861/945)   \rResolving deltas:  92% (872/945)   \rResolving deltas:  93% (879/945)   \rResolving deltas:  94% (893/945)   \rResolving deltas:  95% (901/945)   \rResolving deltas:  96% (911/945)   \rResolving deltas:  97% (917/945)   \rResolving deltas:  98% (928/945)   \rResolving deltas:  99% (936/945)   \rResolving deltas: 100% (945/945)   \rResolving deltas: 100% (945/945), done.\n",
            "/content/Keras-FewShotLearning\n",
            "\u001b[32mRetrieving Poetry metadata\u001b[0m\n",
            "\n",
            "# Welcome to \u001b[32mPoetry\u001b[0m!\n",
            "\n",
            "This will download and install the latest version of \u001b[32mPoetry\u001b[0m,\n",
            "a dependency and package manager for Python.\n",
            "\n",
            "It will add the `poetry` command to \u001b[32mPoetry\u001b[0m's bin directory, located at:\n",
            "\n",
            "\u001b[33m$HOME/.poetry/bin\u001b[0m\n",
            "\n",
            "This path will then be added to your `PATH` environment variable by\n",
            "modifying the profile file located at:\n",
            "\n",
            "\u001b[33m$HOME/.profile\u001b[0m\n",
            "\n",
            "You can uninstall at any time by executing this script with the --uninstall option,\n",
            "and these changes will be reverted.\n",
            "\n",
            "Installing version: \u001b[32m1.0.9\u001b[0m\n",
            "  - Downloading \u001b[33mpoetry-1.0.9-linux.tar.gz\u001b[0m (25.37MB)\n",
            "\n",
            "\u001b[32mPoetry\u001b[0m (\u001b[33m1.0.9\u001b[0m) is installed now. Great!\n",
            "\n",
            "To get started you need \u001b[32mPoetry\u001b[0m's bin directory (\u001b[33m$HOME/.poetry/bin\u001b[0m) in your `PATH`\n",
            "environment variable. Next time you log in this will be done\n",
            "automatically.\n",
            "\n",
            "To configure your current shell run `source \u001b[33m$HOME/.poetry/env\u001b[0m`\n",
            "\n",
            "\u001b[30;43mSkipping virtualenv creation, as specified in config file.\u001b[0m\n",
            "\u001b[34mInstalling dependencies from lock file\u001b[0m\n",
            "\n",
            "\n",
            "Package operations: \u001b[34m10\u001b[0m installs, \u001b[34m26\u001b[0m updates, \u001b[34m0\u001b[0m removals\n",
            "\n",
            "  - Updating \u001b[36mcertifi\u001b[0m (\u001b[1m2020.4.5.1\u001b[0m -> \u001b[1m2020.4.5.2\u001b[0m)\n",
            "  - Updating \u001b[36murllib3\u001b[0m (\u001b[1m1.24.3\u001b[0m -> \u001b[1m1.25.9\u001b[0m)\n",
            "  - Updating \u001b[36mcachetools\u001b[0m (\u001b[1m3.1.1\u001b[0m -> \u001b[1m4.1.0\u001b[0m)\n",
            "  - Updating \u001b[36mrsa\u001b[0m (\u001b[1m4.0\u001b[0m -> \u001b[1m4.1\u001b[0m)\n",
            "  - Updating \u001b[36msix\u001b[0m (\u001b[1m1.12.0\u001b[0m -> \u001b[1m1.15.0\u001b[0m)\n",
            "  - Updating \u001b[36mgoogle-auth\u001b[0m (\u001b[1m1.7.2\u001b[0m -> \u001b[1m1.17.0\u001b[0m)\n",
            "  - Updating \u001b[36mimportlib-metadata\u001b[0m (\u001b[1m1.6.0\u001b[0m -> \u001b[1m1.6.1\u001b[0m)\n",
            "  - Updating \u001b[36mpillow\u001b[0m (\u001b[1m7.0.0\u001b[0m -> \u001b[1m7.1.2\u001b[0m)\n",
            "  - Updating \u001b[36mprotobuf\u001b[0m (\u001b[1m3.10.0\u001b[0m -> \u001b[1m3.12.2\u001b[0m)\n",
            "  - Updating \u001b[36mimageio\u001b[0m (\u001b[1m2.4.1\u001b[0m -> \u001b[1m2.8.0\u001b[0m)\n",
            "  - Updating \u001b[36mpluggy\u001b[0m (\u001b[1m0.7.1\u001b[0m -> \u001b[1m0.13.1\u001b[0m)\n",
            "  - Updating \u001b[36mpytz\u001b[0m (\u001b[1m2018.9\u001b[0m -> \u001b[1m2020.1\u001b[0m)\n",
            "  - Updating \u001b[36mwcwidth\u001b[0m (\u001b[1m0.2.3\u001b[0m -> \u001b[1m0.2.4\u001b[0m)\n",
            "  - Installing \u001b[36mappdirs\u001b[0m (\u001b[1m1.4.4\u001b[0m)\n",
            "  - Updating \u001b[36mcoverage\u001b[0m (\u001b[1m3.7.1\u001b[0m -> \u001b[1m5.1\u001b[0m)\n",
            "  - Updating \u001b[36mfuture\u001b[0m (\u001b[1m0.16.0\u001b[0m -> \u001b[1m0.18.2\u001b[0m)\n",
            "  - Installing \u001b[36mmccabe\u001b[0m (\u001b[1m0.6.1\u001b[0m)\n",
            "  - Updating \u001b[36mopencv-python\u001b[0m (\u001b[1m4.1.2.30\u001b[0m -> \u001b[1m4.2.0.34\u001b[0m)\n",
            "  - Installing \u001b[36mpathspec\u001b[0m (\u001b[1m0.8.0\u001b[0m)\n",
            "  - Installing \u001b[36mpycodestyle\u001b[0m (\u001b[1m2.6.0\u001b[0m)\n",
            "  - Installing \u001b[36mpyflakes\u001b[0m (\u001b[1m2.2.0\u001b[0m)\n",
            "  - Updating \u001b[36mpytest\u001b[0m (\u001b[1m3.6.4\u001b[0m -> \u001b[1m5.4.3\u001b[0m)\n",
            "  - Updating \u001b[36mregex\u001b[0m (\u001b[1m2019.12.20\u001b[0m -> \u001b[1m2020.6.8\u001b[0m)\n",
            "  - Updating \u001b[36mscikit-image\u001b[0m (\u001b[1m0.16.2\u001b[0m -> \u001b[1m0.17.2\u001b[0m)\n",
            "  - Updating \u001b[36mtensorflow-metadata\u001b[0m (\u001b[1m0.22.1\u001b[0m -> \u001b[1m0.22.2\u001b[0m)\n",
            "  - Installing \u001b[36mtoml\u001b[0m (\u001b[1m0.10.1\u001b[0m)\n",
            "  - Updating \u001b[36mtqdm\u001b[0m (\u001b[1m4.41.1\u001b[0m -> \u001b[1m4.46.1\u001b[0m)\n",
            "  - Installing \u001b[36mtyped-ast\u001b[0m (\u001b[1m1.4.1\u001b[0m)\n",
            "  - Updating \u001b[36mtypeguard\u001b[0m (\u001b[1m2.7.1\u001b[0m -> \u001b[1m2.9.1\u001b[0m)\n",
            "  - Installing \u001b[36mblack\u001b[0m (\u001b[1m19.10b0\u001b[0m)\n",
            "  - Installing \u001b[36mflake8\u001b[0m (\u001b[1m3.8.3\u001b[0m)\n",
            "  - Updating \u001b[36mimgaug\u001b[0m (\u001b[1m0.2.9\u001b[0m -> \u001b[1m0.4.0\u001b[0m)\n",
            "  - Installing \u001b[36mpytest-cov\u001b[0m (\u001b[1m2.9.0\u001b[0m)\n",
            "  - Updating \u001b[36mpyyaml\u001b[0m (\u001b[1m3.13\u001b[0m -> \u001b[1m5.3.1\u001b[0m)\n",
            "  - Updating \u001b[36mtensorflow-addons\u001b[0m (\u001b[1m0.8.3\u001b[0m -> \u001b[1m0.9.1\u001b[0m)\n",
            "  - Updating \u001b[36mtensorflow-datasets\u001b[0m (\u001b[1m2.1.0\u001b[0m -> \u001b[1m3.1.0\u001b[0m)\n",
            "  - Installing \u001b[36mkeras-fsl\u001b[0m (\u001b[1m0.2.0\u001b[0m)\n"
          ],
          "name": "stdout"
        }
      ]
    },
    {
      "cell_type": "code",
      "metadata": {
        "pycharm": {
          "name": "#%% Imports\n"
        },
        "id": "8N3mJaLAto5d",
        "colab_type": "code",
        "colab": {}
      },
      "source": [
        "from pathlib import Path\n",
        "\n",
        "import pandas as pd\n",
        "import tensorflow as tf\n",
        "import tensorflow_datasets as tfds\n",
        "from functools import partial\n",
        "from gpumonitor.callbacks.tf import TFGpuMonitorCallback\n",
        "from tensorflow.keras.layers import Conv2D, Dropout, Flatten, GlobalMaxPooling2D, Input, MaxPooling2D\n",
        "from tensorflow.keras.models import Sequential\n",
        "\n",
        "from keras_fsl.utils.datasets import assign, cache, cache_with_tf_record, read_decode_and_crop_jpeg, transform"
      ],
      "execution_count": null,
      "outputs": []
    },
    {
      "cell_type": "code",
      "metadata": {
        "pycharm": {
          "name": "#%% Read Cifar10 dataset to dump images and create df\n"
        },
        "id": "5mLM_qtdto5h",
        "colab_type": "code",
        "colab": {}
      },
      "source": [
        "train_dataset = tfds.load(name=\"cifar10\", split=\"train\")\n",
        "output_dir = Path(\"logs\") / \"benchmark_caching_performance\"\n",
        "(output_dir / \"cifar10\").mkdir(exist_ok=True, parents=True)\n",
        "examples = []\n",
        "for example in train_dataset:\n",
        "    tf.io.write_file(str(output_dir / \"cifar10\" / example[\"id\"].numpy().decode()), tf.io.encode_jpeg(example[\"image\"]))\n",
        "    examples += [{\"id\": example[\"id\"].numpy().decode(), \"label\": example[\"label\"].numpy()}]"
      ],
      "execution_count": null,
      "outputs": []
    },
    {
      "cell_type": "code",
      "metadata": {
        "pycharm": {
          "name": "#%% Create datasets\n"
        },
        "id": "4jj156Ynto5j",
        "colab_type": "code",
        "colab": {}
      },
      "source": [
        "datasets = {\n",
        "    key: pd.DataFrame(examples)\n",
        "    .assign(filename=lambda df: str(output_dir / \"cifar10\") + \"/\" + df.id)\n",
        "    .pipe(lambda df: tf.data.Dataset.from_tensor_slices(df.to_dict(\"list\")))\n",
        "    .map(assign(image=read_decode_and_crop_jpeg), num_parallel_calls=tf.data.experimental.AUTOTUNE)\n",
        "    .apply(cache_func)\n",
        "    .map(\n",
        "        transform(image=partial(tf.image.convert_image_dtype, dtype=tf.float32)),\n",
        "        num_parallel_calls=tf.data.experimental.AUTOTUNE,\n",
        "    )\n",
        "    .map(\n",
        "        lambda x: (\n",
        "            tf.ensure_shape(x[\"image\"], train_dataset.element_spec[\"image\"].shape),\n",
        "            tf.ensure_shape(x[\"label\"], train_dataset.element_spec[\"label\"].shape),\n",
        "        ),\n",
        "        num_parallel_calls=tf.data.experimental.AUTOTUNE,\n",
        "    )\n",
        "    .batch(64)\n",
        "    for key, cache_func in zip(\n",
        "        [\"tf_record_cache\", \"dataset_cache\", \"no_cache\"],\n",
        "        [cache_with_tf_record(output_dir / \"tf_record_cache\"), cache(output_dir / \"dataset_cache\"), lambda ds: ds],\n",
        "    )\n",
        "}"
      ],
      "execution_count": null,
      "outputs": []
    },
    {
      "cell_type": "code",
      "metadata": {
        "pycharm": {
          "name": "#%% Create model\n"
        },
        "id": "o-QiXSsBto5m",
        "colab_type": "code",
        "colab": {}
      },
      "source": [
        "model = Sequential(\n",
        "    [\n",
        "        Input(train_dataset.element_spec[\"image\"].shape),\n",
        "        Conv2D(filters=32, kernel_size=(3, 3), padding=\"same\", activation=\"relu\"),\n",
        "        MaxPooling2D(pool_size=2),\n",
        "        Dropout(0.3),\n",
        "        Conv2D(filters=64, kernel_size=(3, 3), padding=\"same\", activation=\"relu\"),\n",
        "        MaxPooling2D(pool_size=2),\n",
        "        Dropout(0.3),\n",
        "        Conv2D(filters=128, kernel_size=(3, 3), padding=\"same\", activation=\"relu\"),\n",
        "        MaxPooling2D(pool_size=2),\n",
        "        Dropout(0.3),\n",
        "        Conv2D(filters=256, kernel_size=(3, 3), padding=\"same\", activation=\"relu\"),\n",
        "        MaxPooling2D(pool_size=2),\n",
        "        Dropout(0.3),\n",
        "        GlobalMaxPooling2D(),\n",
        "        Flatten(),\n",
        "    ]\n",
        ")\n",
        "model.save_weights(str(output_dir / \"initial_weights.h5\"))"
      ],
      "execution_count": null,
      "outputs": []
    },
    {
      "cell_type": "code",
      "metadata": {
        "pycharm": {
          "name": "#%% Train\n"
        },
        "id": "TIdF3n_cto5p",
        "colab_type": "code",
        "colab": {}
      },
      "source": [
        "for key, dataset in datasets.items():\n",
        "    model.load_weights(str(output_dir / \"initial_weights.h5\"))\n",
        "    model.compile(loss=\"sparse_categorical_crossentropy\", optimizer=\"adam\")\n",
        "    model.fit(dataset, callbacks=[TFGpuMonitorCallback(delay=0.5)])"
      ],
      "execution_count": null,
      "outputs": []
    }
  ]
}